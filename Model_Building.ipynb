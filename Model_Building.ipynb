{
  "nbformat": 4,
  "nbformat_minor": 0,
  "metadata": {
    "colab": {
      "name": "Model Building.ipynb",
      "provenance": []
    },
    "kernelspec": {
      "name": "python3",
      "display_name": "Python 3"
    }
  },
  "cells": [
    {
      "cell_type": "code",
      "metadata": {
        "id": "jAz_M1HRnWXD"
      },
      "source": [
        "import pandas as pd\r\n",
        "import numpy as np"
      ],
      "execution_count": null,
      "outputs": []
    },
    {
      "cell_type": "code",
      "metadata": {
        "id": "VziJKoUapths"
      },
      "source": [
        "df=pd.read_csv('Fake News Data.csv',encoding= 'unicode_escape')"
      ],
      "execution_count": null,
      "outputs": []
    },
    {
      "cell_type": "markdown",
      "metadata": {
        "id": "cPPKtn50p9ol"
      },
      "source": [
        "Data Analysis"
      ]
    },
    {
      "cell_type": "code",
      "metadata": {
        "colab": {
          "base_uri": "https://localhost:8080/",
          "height": 204
        },
        "id": "cM2ny4QSpvh2",
        "outputId": "cc2cd531-cc2b-4a96-be8b-540eb514e13d"
      },
      "source": [
        "df.head()"
      ],
      "execution_count": null,
      "outputs": [
        {
          "output_type": "execute_result",
          "data": {
            "text/html": [
              "<div>\n",
              "<style scoped>\n",
              "    .dataframe tbody tr th:only-of-type {\n",
              "        vertical-align: middle;\n",
              "    }\n",
              "\n",
              "    .dataframe tbody tr th {\n",
              "        vertical-align: top;\n",
              "    }\n",
              "\n",
              "    .dataframe thead th {\n",
              "        text-align: right;\n",
              "    }\n",
              "</style>\n",
              "<table border=\"1\" class=\"dataframe\">\n",
              "  <thead>\n",
              "    <tr style=\"text-align: right;\">\n",
              "      <th></th>\n",
              "      <th>News</th>\n",
              "      <th>Target</th>\n",
              "    </tr>\n",
              "  </thead>\n",
              "  <tbody>\n",
              "    <tr>\n",
              "      <th>0</th>\n",
              "      <td>A man who stormed the U.S. Capitol in a horned...</td>\n",
              "      <td>0</td>\n",
              "    </tr>\n",
              "    <tr>\n",
              "      <th>1</th>\n",
              "      <td>âGeorgia and Kansas Capitol buildings have b...</td>\n",
              "      <td>0</td>\n",
              "    </tr>\n",
              "    <tr>\n",
              "      <th>2</th>\n",
              "      <td>We won. We won in a landslide. This was a land...</td>\n",
              "      <td>0</td>\n",
              "    </tr>\n",
              "    <tr>\n",
              "      <th>3</th>\n",
              "      <td>Antifa\" is to blame for storming the U.S. Capi...</td>\n",
              "      <td>0</td>\n",
              "    </tr>\n",
              "    <tr>\n",
              "      <th>4</th>\n",
              "      <td>Google and Apple maps wonât give directions ...</td>\n",
              "      <td>0</td>\n",
              "    </tr>\n",
              "  </tbody>\n",
              "</table>\n",
              "</div>"
            ],
            "text/plain": [
              "                                                News  Target\n",
              "0  A man who stormed the U.S. Capitol in a horned...       0\n",
              "1  âGeorgia and Kansas Capitol buildings have b...       0\n",
              "2  We won. We won in a landslide. This was a land...       0\n",
              "3  Antifa\" is to blame for storming the U.S. Capi...       0\n",
              "4  Google and Apple maps wonât give directions ...       0"
            ]
          },
          "metadata": {
            "tags": []
          },
          "execution_count": 3
        }
      ]
    },
    {
      "cell_type": "code",
      "metadata": {
        "colab": {
          "base_uri": "https://localhost:8080/"
        },
        "id": "DknVnvkypw9R",
        "outputId": "bb73c8c0-fc91-467d-84d9-d5ffb685b60f"
      },
      "source": [
        "df.shape"
      ],
      "execution_count": null,
      "outputs": [
        {
          "output_type": "execute_result",
          "data": {
            "text/plain": [
              "(14670, 2)"
            ]
          },
          "metadata": {
            "tags": []
          },
          "execution_count": 4
        }
      ]
    },
    {
      "cell_type": "code",
      "metadata": {
        "colab": {
          "base_uri": "https://localhost:8080/"
        },
        "id": "Jz-Xhp_kpzQl",
        "outputId": "65fb8dfb-c66e-47df-fbc1-9fcccd0df5c6"
      },
      "source": [
        "df.info()"
      ],
      "execution_count": null,
      "outputs": [
        {
          "output_type": "stream",
          "text": [
            "<class 'pandas.core.frame.DataFrame'>\n",
            "RangeIndex: 14670 entries, 0 to 14669\n",
            "Data columns (total 2 columns):\n",
            " #   Column  Non-Null Count  Dtype \n",
            "---  ------  --------------  ----- \n",
            " 0   News    14670 non-null  object\n",
            " 1   Target  14670 non-null  int64 \n",
            "dtypes: int64(1), object(1)\n",
            "memory usage: 229.3+ KB\n"
          ],
          "name": "stdout"
        }
      ]
    },
    {
      "cell_type": "code",
      "metadata": {
        "colab": {
          "base_uri": "https://localhost:8080/"
        },
        "id": "52v6AXVsqEYN",
        "outputId": "aca202e0-ecc2-4002-a3b6-3a2d533b8a76"
      },
      "source": [
        "df.isnull().sum()             #no null values in dataset"
      ],
      "execution_count": null,
      "outputs": [
        {
          "output_type": "execute_result",
          "data": {
            "text/plain": [
              "News      0\n",
              "Target    0\n",
              "dtype: int64"
            ]
          },
          "metadata": {
            "tags": []
          },
          "execution_count": 6
        }
      ]
    },
    {
      "cell_type": "code",
      "metadata": {
        "colab": {
          "base_uri": "https://localhost:8080/"
        },
        "id": "RjP8Zx_VqHAU",
        "outputId": "f97b8655-be13-40ba-b3c8-0b4de38e8f60"
      },
      "source": [
        "df.Target.value_counts()         #we have almost 12% of True News in the Dataset"
      ],
      "execution_count": null,
      "outputs": [
        {
          "output_type": "execute_result",
          "data": {
            "text/plain": [
              "0    13012\n",
              "1     1658\n",
              "Name: Target, dtype: int64"
            ]
          },
          "metadata": {
            "tags": []
          },
          "execution_count": 7
        }
      ]
    },
    {
      "cell_type": "markdown",
      "metadata": {
        "id": "1UOeanJCqTUa"
      },
      "source": [
        "Train Test Split(to avoid data leakage)"
      ]
    },
    {
      "cell_type": "code",
      "metadata": {
        "id": "b389SWeCqU1w"
      },
      "source": [
        "from sklearn.model_selection import train_test_split\r\n",
        "X_train,X_test,y_train,y_test=train_test_split(df.News,df.Target,test_size=0.2,random_state=0)"
      ],
      "execution_count": null,
      "outputs": []
    },
    {
      "cell_type": "markdown",
      "metadata": {
        "id": "PL_T8ki7qZN_"
      },
      "source": [
        "Data Cleaning"
      ]
    },
    {
      "cell_type": "code",
      "metadata": {
        "id": "32oHLdSpqa4o"
      },
      "source": [
        "news_list_train=X_train.values                                 #for training data"
      ],
      "execution_count": null,
      "outputs": []
    },
    {
      "cell_type": "code",
      "metadata": {
        "colab": {
          "base_uri": "https://localhost:8080/"
        },
        "id": "XWqaIRNiqeGE",
        "outputId": "4aafd171-c25a-4957-d9b9-ec4a1b12b1b2"
      },
      "source": [
        "type(news_list_train[0])"
      ],
      "execution_count": null,
      "outputs": [
        {
          "output_type": "execute_result",
          "data": {
            "text/plain": [
              "str"
            ]
          },
          "metadata": {
            "tags": []
          },
          "execution_count": 64
        }
      ]
    },
    {
      "cell_type": "code",
      "metadata": {
        "id": "Z0ibcbTcqgEL"
      },
      "source": [
        "import nltk\r\n",
        "import re\r\n",
        "from nltk.stem import PorterStemmer\r\n",
        "from nltk.corpus import stopwords"
      ],
      "execution_count": null,
      "outputs": []
    },
    {
      "cell_type": "code",
      "metadata": {
        "id": "bbTU7sd2qiFd"
      },
      "source": [
        "bag_words_train=[]                                           \r\n",
        "stemmer=PorterStemmer()\r\n",
        "for i in range(len(news_list_train)):\r\n",
        "    words=re.sub('[^a-zA-Z]',' ',news_list_train[i])\r\n",
        "    words=words.lower().split()\r\n",
        "    words=[stemmer.stem(word) for word in words if word not in set(stopwords.words('english'))]\r\n",
        "    words=' '.join(words)\r\n",
        "    bag_words_train.append(words)"
      ],
      "execution_count": null,
      "outputs": []
    },
    {
      "cell_type": "code",
      "metadata": {
        "colab": {
          "base_uri": "https://localhost:8080/",
          "height": 35
        },
        "id": "QBTfKx7Gqp3n",
        "outputId": "323bd99f-f78d-416b-cd1c-2559d793eefe"
      },
      "source": [
        "bag_words_train[0]"
      ],
      "execution_count": null,
      "outputs": [
        {
          "output_type": "execute_result",
          "data": {
            "application/vnd.google.colaboratory.intrinsic+json": {
              "type": "string"
            },
            "text/plain": [
              "'twenti six men name william elect statewid offic seven women honor'"
            ]
          },
          "metadata": {
            "tags": []
          },
          "execution_count": 67
        }
      ]
    },
    {
      "cell_type": "markdown",
      "metadata": {
        "id": "mUnGQgo_q451"
      },
      "source": [
        "Word Embedding"
      ]
    },
    {
      "cell_type": "code",
      "metadata": {
        "id": "NnSyk3GVq7dt"
      },
      "source": [
        "from sklearn.feature_extraction.text import TfidfVectorizer"
      ],
      "execution_count": null,
      "outputs": []
    },
    {
      "cell_type": "code",
      "metadata": {
        "id": "fhHXwA-mq-ie"
      },
      "source": [
        "tf_vec=TfidfVectorizer(max_features=5000,ngram_range=(1,3))\r\n",
        "tf_transformer=tf_vec.fit(bag_words_train)\r\n",
        "Embed_X_train=tf_vec.fit_transform(bag_words_train).toarray()"
      ],
      "execution_count": null,
      "outputs": []
    },
    {
      "cell_type": "code",
      "metadata": {
        "colab": {
          "base_uri": "https://localhost:8080/"
        },
        "id": "zJDyDhqyrAO7",
        "outputId": "fd0c0118-598b-4e2a-c4fa-c09eea122c76"
      },
      "source": [
        "Embed_X_train.shape"
      ],
      "execution_count": null,
      "outputs": [
        {
          "output_type": "execute_result",
          "data": {
            "text/plain": [
              "(11736, 5000)"
            ]
          },
          "metadata": {
            "tags": []
          },
          "execution_count": 70
        }
      ]
    },
    {
      "cell_type": "code",
      "metadata": {
        "colab": {
          "base_uri": "https://localhost:8080/"
        },
        "id": "mKp8w905rCal",
        "outputId": "6ca3a27f-ccfe-42ea-f146-d027e8546dce"
      },
      "source": [
        "y_train.shape"
      ],
      "execution_count": null,
      "outputs": [
        {
          "output_type": "execute_result",
          "data": {
            "text/plain": [
              "(11736,)"
            ]
          },
          "metadata": {
            "tags": []
          },
          "execution_count": 71
        }
      ]
    },
    {
      "cell_type": "code",
      "metadata": {
        "id": "T14DbRKyrED0"
      },
      "source": [
        "news_list_test=X_test.values                                 #for test data"
      ],
      "execution_count": null,
      "outputs": []
    },
    {
      "cell_type": "code",
      "metadata": {
        "colab": {
          "base_uri": "https://localhost:8080/"
        },
        "id": "eWyg6CUhrFxN",
        "outputId": "3df5c5a6-e75e-4d41-b47c-9287fc32c107"
      },
      "source": [
        "type(news_list_test[0])"
      ],
      "execution_count": null,
      "outputs": [
        {
          "output_type": "execute_result",
          "data": {
            "text/plain": [
              "str"
            ]
          },
          "metadata": {
            "tags": []
          },
          "execution_count": 73
        }
      ]
    },
    {
      "cell_type": "code",
      "metadata": {
        "id": "ZyIB2kv6rHXJ"
      },
      "source": [
        "bag_words_test=[]                                           \r\n",
        "stemmer=PorterStemmer()\r\n",
        "for i in range(len(news_list_test)):\r\n",
        "    words=re.sub('[^a-zA-Z]',' ',news_list_test[i])\r\n",
        "    words=words.lower().split()\r\n",
        "    words=[stemmer.stem(word) for word in words if word not in set(stopwords.words('english'))]\r\n",
        "    words=' '.join(words)\r\n",
        "    bag_words_test.append(words)"
      ],
      "execution_count": null,
      "outputs": []
    },
    {
      "cell_type": "code",
      "metadata": {
        "colab": {
          "base_uri": "https://localhost:8080/",
          "height": 35
        },
        "id": "hLfq3tbdrJpY",
        "outputId": "80e2eb39-108d-4349-a946-0154305b1fa9"
      },
      "source": [
        "bag_words_test[0]"
      ],
      "execution_count": null,
      "outputs": [
        {
          "output_type": "execute_result",
          "data": {
            "application/vnd.google.colaboratory.intrinsic+json": {
              "type": "string"
            },
            "text/plain": [
              "'say percent texa counti abort provid'"
            ]
          },
          "metadata": {
            "tags": []
          },
          "execution_count": 75
        }
      ]
    },
    {
      "cell_type": "code",
      "metadata": {
        "id": "YAri_LaOratW"
      },
      "source": [
        "Embed_X_test=tf_vec.fit_transform(bag_words_test).toarray()"
      ],
      "execution_count": null,
      "outputs": []
    },
    {
      "cell_type": "code",
      "metadata": {
        "colab": {
          "base_uri": "https://localhost:8080/"
        },
        "id": "ReMQRUW0rdL5",
        "outputId": "3ac0bd14-d35d-4e23-fa1e-4b481e6ac5d8"
      },
      "source": [
        "Embed_X_test.shape"
      ],
      "execution_count": null,
      "outputs": [
        {
          "output_type": "execute_result",
          "data": {
            "text/plain": [
              "(2934, 5000)"
            ]
          },
          "metadata": {
            "tags": []
          },
          "execution_count": 77
        }
      ]
    },
    {
      "cell_type": "code",
      "metadata": {
        "colab": {
          "base_uri": "https://localhost:8080/"
        },
        "id": "vvGmJcJere2U",
        "outputId": "c5c45ef9-fc26-420d-ca46-dc29824a68bb"
      },
      "source": [
        "y_test.shape"
      ],
      "execution_count": null,
      "outputs": [
        {
          "output_type": "execute_result",
          "data": {
            "text/plain": [
              "(2934,)"
            ]
          },
          "metadata": {
            "tags": []
          },
          "execution_count": 78
        }
      ]
    },
    {
      "cell_type": "code",
      "metadata": {
        "colab": {
          "base_uri": "https://localhost:8080/"
        },
        "id": "tef3orn8rgZR",
        "outputId": "9c7907ff-8942-450c-caae-fff10f9ca201"
      },
      "source": [
        "tf_vec.get_feature_names()[:10]"
      ],
      "execution_count": null,
      "outputs": [
        {
          "output_type": "execute_result",
          "data": {
            "text/plain": [
              "['abandon',\n",
              " 'abbott',\n",
              " 'abel',\n",
              " 'abil',\n",
              " 'abl',\n",
              " 'abolish',\n",
              " 'abolish ice',\n",
              " 'abort',\n",
              " 'abort illeg',\n",
              " 'abort moment']"
            ]
          },
          "metadata": {
            "tags": []
          },
          "execution_count": 79
        }
      ]
    },
    {
      "cell_type": "code",
      "metadata": {
        "colab": {
          "base_uri": "https://localhost:8080/"
        },
        "id": "DJ0BFaIQriHn",
        "outputId": "70af9fca-9d6e-44c0-cf4c-5a1e21706b42"
      },
      "source": [
        "tf_vec.get_params()"
      ],
      "execution_count": null,
      "outputs": [
        {
          "output_type": "execute_result",
          "data": {
            "text/plain": [
              "{'analyzer': 'word',\n",
              " 'binary': False,\n",
              " 'decode_error': 'strict',\n",
              " 'dtype': numpy.float64,\n",
              " 'encoding': 'utf-8',\n",
              " 'input': 'content',\n",
              " 'lowercase': True,\n",
              " 'max_df': 1.0,\n",
              " 'max_features': 5000,\n",
              " 'min_df': 1,\n",
              " 'ngram_range': (1, 3),\n",
              " 'norm': 'l2',\n",
              " 'preprocessor': None,\n",
              " 'smooth_idf': True,\n",
              " 'stop_words': None,\n",
              " 'strip_accents': None,\n",
              " 'sublinear_tf': False,\n",
              " 'token_pattern': '(?u)\\\\b\\\\w\\\\w+\\\\b',\n",
              " 'tokenizer': None,\n",
              " 'use_idf': True,\n",
              " 'vocabulary': None}"
            ]
          },
          "metadata": {
            "tags": []
          },
          "execution_count": 80
        }
      ]
    },
    {
      "cell_type": "code",
      "metadata": {
        "colab": {
          "base_uri": "https://localhost:8080/"
        },
        "id": "8dwEtJ7Yrj9v",
        "outputId": "0d3d3eb2-f370-4184-c760-e9650abc2330"
      },
      "source": [
        "Embed_X_train[0]"
      ],
      "execution_count": null,
      "outputs": [
        {
          "output_type": "execute_result",
          "data": {
            "text/plain": [
              "array([0., 0., 0., ..., 0., 0., 0.])"
            ]
          },
          "metadata": {
            "tags": []
          },
          "execution_count": 81
        }
      ]
    },
    {
      "cell_type": "markdown",
      "metadata": {
        "id": "EoDt9C7-ungv"
      },
      "source": [
        "Model Training"
      ]
    },
    {
      "cell_type": "code",
      "metadata": {
        "id": "mGtpNRH7rmC3"
      },
      "source": [
        "from sklearn.naive_bayes import MultinomialNB\r\n",
        "classifier=MultinomialNB()\r\n",
        "from sklearn.metrics import accuracy_score,precision_score,recall_score,f1_score,roc_auc_score,confusion_matrix,classification_report"
      ],
      "execution_count": null,
      "outputs": []
    },
    {
      "cell_type": "code",
      "metadata": {
        "id": "0O7EKYzJrn7z"
      },
      "source": [
        "classifier.fit(Embed_X_train,y_train)\r\n",
        "pred=classifier.predict(Embed_X_test)"
      ],
      "execution_count": null,
      "outputs": []
    },
    {
      "cell_type": "code",
      "metadata": {
        "id": "HlQoSvL0rsH7"
      },
      "source": [
        "def genererate_model_report(y_test,y_pred):\r\n",
        "    print('confusion matrix:\\n',confusion_matrix(y_test,y_pred))\r\n",
        "    print('')\r\n",
        "    print('accuracy:',accuracy_score(y_test,y_pred))\r\n",
        "    print('precision:',precision_score(y_test,y_pred))\r\n",
        "    print('recall:',recall_score(y_test,y_pred))\r\n",
        "    print('f1-score:',f1_score(y_test,y_pred))\r\n",
        "    print('roc auc score:',roc_auc_score(y_test,y_pred))\r\n",
        "    print('')\r\n",
        "    print('classification report:\\n',classification_report(y_test,y_pred))"
      ],
      "execution_count": null,
      "outputs": []
    },
    {
      "cell_type": "code",
      "metadata": {
        "colab": {
          "base_uri": "https://localhost:8080/"
        },
        "id": "zImaes9lrwcF",
        "outputId": "bf296f9a-39e3-4c4c-817e-8823efc86eff"
      },
      "source": [
        "genererate_model_report(y_test,pred)"
      ],
      "execution_count": null,
      "outputs": [
        {
          "output_type": "stream",
          "text": [
            "confusion matrix:\n",
            " [[2576   16]\n",
            " [ 340    2]]\n",
            "\n",
            "accuracy: 0.8786639400136332\n",
            "precision: 0.1111111111111111\n",
            "recall: 0.005847953216374269\n",
            "f1-score: 0.011111111111111112\n",
            "roc auc score: 0.4998375568551007\n",
            "\n",
            "classification report:\n",
            "               precision    recall  f1-score   support\n",
            "\n",
            "           0       0.88      0.99      0.94      2592\n",
            "           1       0.11      0.01      0.01       342\n",
            "\n",
            "    accuracy                           0.88      2934\n",
            "   macro avg       0.50      0.50      0.47      2934\n",
            "weighted avg       0.79      0.88      0.83      2934\n",
            "\n"
          ],
          "name": "stdout"
        }
      ]
    },
    {
      "cell_type": "code",
      "metadata": {
        "colab": {
          "base_uri": "https://localhost:8080/"
        },
        "id": "UlLW6FbUr0tY",
        "outputId": "a28569a7-5011-4eb6-bd63-78cfdf8b0538"
      },
      "source": [
        "print(Embed_X_train.shape)\r\n",
        "print(y_train.shape)"
      ],
      "execution_count": null,
      "outputs": [
        {
          "output_type": "stream",
          "text": [
            "(11736, 5000)\n",
            "(11736,)\n"
          ],
          "name": "stdout"
        }
      ]
    },
    {
      "cell_type": "code",
      "metadata": {
        "colab": {
          "base_uri": "https://localhost:8080/"
        },
        "id": "qOat7fStsBIK",
        "outputId": "3e6982d3-566f-4981-ad86-49c8b926d14b"
      },
      "source": [
        "print((y_train[y_train==0]).shape)               #the data is highly imbalanced so we need to balance them so that we do not get biased results\r\n",
        "print((y_train[y_train==1]).shape)"
      ],
      "execution_count": null,
      "outputs": [
        {
          "output_type": "stream",
          "text": [
            "(10420,)\n",
            "(1316,)\n"
          ],
          "name": "stdout"
        }
      ]
    },
    {
      "cell_type": "code",
      "metadata": {
        "colab": {
          "base_uri": "https://localhost:8080/"
        },
        "id": "NQ-h1SGlsDbp",
        "outputId": "4e0c18a1-e6ad-415b-cb1b-51adcc91457d"
      },
      "source": [
        "print((Embed_X_train[y_train==0]).shape)\r\n",
        "print((Embed_X_train[y_train==1]).shape)"
      ],
      "execution_count": null,
      "outputs": [
        {
          "output_type": "stream",
          "text": [
            "(10420, 5000)\n",
            "(1316, 5000)\n"
          ],
          "name": "stdout"
        }
      ]
    },
    {
      "cell_type": "code",
      "metadata": {
        "id": "55-sDuEIsFgl"
      },
      "source": [
        ""
      ],
      "execution_count": null,
      "outputs": []
    },
    {
      "cell_type": "markdown",
      "metadata": {
        "id": "gHQzcksDsG-y"
      },
      "source": [
        "Data Balancing"
      ]
    },
    {
      "cell_type": "code",
      "metadata": {
        "id": "zd1TNN06yZCc"
      },
      "source": [
        "from imblearn.over_sampling import RandomOverSampler"
      ],
      "execution_count": null,
      "outputs": []
    },
    {
      "cell_type": "code",
      "metadata": {
        "id": "q18PK5wJ25PA"
      },
      "source": [
        "oversample=RandomOverSampler()\r\n",
        "X_over,y_over=oversample.fit_resample(Embed_X_train,y_train)"
      ],
      "execution_count": null,
      "outputs": []
    },
    {
      "cell_type": "code",
      "metadata": {
        "id": "7Gf0BR0d41sL"
      },
      "source": [
        "classifier.fit(X_over,y_over)\r\n",
        "pred=classifier.predict(Embed_X_test)"
      ],
      "execution_count": null,
      "outputs": []
    },
    {
      "cell_type": "code",
      "metadata": {
        "colab": {
          "base_uri": "https://localhost:8080/"
        },
        "id": "yWxGCJaY49NP",
        "outputId": "c76cf8c9-5b37-4979-abb4-5039858dc7f8"
      },
      "source": [
        "genererate_model_report(y_test,pred)"
      ],
      "execution_count": null,
      "outputs": [
        {
          "output_type": "stream",
          "text": [
            "confusion matrix:\n",
            " [[2259  333]\n",
            " [ 305   37]]\n",
            "\n",
            "accuracy: 0.7825494205862304\n",
            "precision: 0.1\n",
            "recall: 0.10818713450292397\n",
            "f1-score: 0.10393258426966293\n",
            "roc auc score: 0.48985745614035087\n",
            "\n",
            "classification report:\n",
            "               precision    recall  f1-score   support\n",
            "\n",
            "           0       0.88      0.87      0.88      2592\n",
            "           1       0.10      0.11      0.10       342\n",
            "\n",
            "    accuracy                           0.78      2934\n",
            "   macro avg       0.49      0.49      0.49      2934\n",
            "weighted avg       0.79      0.78      0.79      2934\n",
            "\n"
          ],
          "name": "stdout"
        }
      ]
    },
    {
      "cell_type": "code",
      "metadata": {
        "id": "MgmAnBBtrsDR"
      },
      "source": [
        ""
      ],
      "execution_count": null,
      "outputs": []
    },
    {
      "cell_type": "code",
      "metadata": {
        "colab": {
          "base_uri": "https://localhost:8080/"
        },
        "id": "jRmRlzrr5Ij0",
        "outputId": "9b20c89e-47ba-4279-900e-abf580c92704"
      },
      "source": [
        "X_over.shape"
      ],
      "execution_count": null,
      "outputs": [
        {
          "output_type": "execute_result",
          "data": {
            "text/plain": [
              "(20840, 5000)"
            ]
          },
          "metadata": {
            "tags": []
          },
          "execution_count": 93
        }
      ]
    },
    {
      "cell_type": "code",
      "metadata": {
        "id": "V_yrpXD_58RL"
      },
      "source": [
        "from collections import Counter"
      ],
      "execution_count": null,
      "outputs": []
    },
    {
      "cell_type": "code",
      "metadata": {
        "colab": {
          "base_uri": "https://localhost:8080/"
        },
        "id": "6qAlQ-xGLlOs",
        "outputId": "8d99b6c3-0204-4e20-9a98-2bf3f95ed8cd"
      },
      "source": [
        "Counter(y_over)"
      ],
      "execution_count": null,
      "outputs": [
        {
          "output_type": "execute_result",
          "data": {
            "text/plain": [
              "Counter({0: 10420, 1: 10420})"
            ]
          },
          "metadata": {
            "tags": []
          },
          "execution_count": 95
        }
      ]
    },
    {
      "cell_type": "code",
      "metadata": {
        "colab": {
          "base_uri": "https://localhost:8080/"
        },
        "id": "31K-81dRLz9E",
        "outputId": "4964f2bf-ab69-4974-e10e-8845c556c086"
      },
      "source": [
        "Counter(y_train)"
      ],
      "execution_count": null,
      "outputs": [
        {
          "output_type": "execute_result",
          "data": {
            "text/plain": [
              "Counter({0: 10420, 1: 1316})"
            ]
          },
          "metadata": {
            "tags": []
          },
          "execution_count": 96
        }
      ]
    },
    {
      "cell_type": "code",
      "metadata": {
        "colab": {
          "base_uri": "https://localhost:8080/"
        },
        "id": "Cej-TDOQL6Go",
        "outputId": "575cd652-6906-42a0-e076-6b5b221ea816"
      },
      "source": [
        "Counter(y_test)"
      ],
      "execution_count": null,
      "outputs": [
        {
          "output_type": "execute_result",
          "data": {
            "text/plain": [
              "Counter({0: 2592, 1: 342})"
            ]
          },
          "metadata": {
            "tags": []
          },
          "execution_count": 97
        }
      ]
    },
    {
      "cell_type": "markdown",
      "metadata": {
        "id": "S7_dMxaMadjD"
      },
      "source": [
        "Hyper-Parameter Optimization"
      ]
    },
    {
      "cell_type": "code",
      "metadata": {
        "id": "ybgPpP6baiBQ"
      },
      "source": [
        "from sklearn.model_selection import GridSearchCV"
      ],
      "execution_count": null,
      "outputs": []
    },
    {
      "cell_type": "code",
      "metadata": {
        "colab": {
          "base_uri": "https://localhost:8080/"
        },
        "id": "DcXj9gqpajlF",
        "outputId": "dd0a9b08-bddc-48ab-9436-0d014ebdbd99"
      },
      "source": [
        "parameters={'alpha':np.arange(0,1,0.1)}\r\n",
        "score='accuracy'\r\n",
        "\r\n",
        "grid_ob=GridSearchCV(classifier,parameters,score,cv=10)\r\n",
        "grid_ob.fit(X_over,y_over)"
      ],
      "execution_count": null,
      "outputs": [
        {
          "output_type": "stream",
          "text": [
            "/usr/local/lib/python3.6/dist-packages/sklearn/naive_bayes.py:507: UserWarning: alpha too small will result in numeric errors, setting alpha = 1.0e-10\n",
            "  'setting alpha = %.1e' % _ALPHA_MIN)\n"
          ],
          "name": "stderr"
        },
        {
          "output_type": "execute_result",
          "data": {
            "text/plain": [
              "GridSearchCV(cv=10, error_score=nan,\n",
              "             estimator=MultinomialNB(alpha=1.0, class_prior=None,\n",
              "                                     fit_prior=True),\n",
              "             iid='deprecated', n_jobs=None,\n",
              "             param_grid={'alpha': array([0. , 0.1, 0.2, 0.3, 0.4, 0.5, 0.6, 0.7, 0.8, 0.9])},\n",
              "             pre_dispatch='2*n_jobs', refit=True, return_train_score=False,\n",
              "             scoring='accuracy', verbose=0)"
            ]
          },
          "metadata": {
            "tags": []
          },
          "execution_count": 104
        }
      ]
    },
    {
      "cell_type": "code",
      "metadata": {
        "colab": {
          "base_uri": "https://localhost:8080/"
        },
        "id": "xLun70JEbuj2",
        "outputId": "1c58d6ee-3b4b-485d-f7ef-e23cbe341fec"
      },
      "source": [
        "grid_ob.best_params_"
      ],
      "execution_count": null,
      "outputs": [
        {
          "output_type": "execute_result",
          "data": {
            "text/plain": [
              "{'alpha': 0.0}"
            ]
          },
          "metadata": {
            "tags": []
          },
          "execution_count": 105
        }
      ]
    },
    {
      "cell_type": "code",
      "metadata": {
        "colab": {
          "base_uri": "https://localhost:8080/"
        },
        "id": "23x1FJI2b9Qi",
        "outputId": "4a0d90fe-92e3-4e14-d826-b54e3ba6e17a"
      },
      "source": [
        "grid_ob.best_score_"
      ],
      "execution_count": null,
      "outputs": [
        {
          "output_type": "execute_result",
          "data": {
            "text/plain": [
              "0.8471209213051824"
            ]
          },
          "metadata": {
            "tags": []
          },
          "execution_count": 106
        }
      ]
    },
    {
      "cell_type": "code",
      "metadata": {
        "id": "HHc3XmO6b_Mw"
      },
      "source": [
        "grid_pred=grid_ob.predict(Embed_X_test)"
      ],
      "execution_count": null,
      "outputs": []
    },
    {
      "cell_type": "code",
      "metadata": {
        "colab": {
          "base_uri": "https://localhost:8080/"
        },
        "id": "TPfcu2vucElv",
        "outputId": "7390676c-e61d-4fb5-bf6b-fc91ed9f1f0a"
      },
      "source": [
        "genererate_model_report(y_test,grid_pred)"
      ],
      "execution_count": null,
      "outputs": [
        {
          "output_type": "stream",
          "text": [
            "confusion matrix:\n",
            " [[2524   68]\n",
            " [ 333    9]]\n",
            "\n",
            "accuracy: 0.8633265167007498\n",
            "precision: 0.11688311688311688\n",
            "recall: 0.02631578947368421\n",
            "f1-score: 0.04295942720763722\n",
            "roc auc score: 0.5000406107862249\n",
            "\n",
            "classification report:\n",
            "               precision    recall  f1-score   support\n",
            "\n",
            "           0       0.88      0.97      0.93      2592\n",
            "           1       0.12      0.03      0.04       342\n",
            "\n",
            "    accuracy                           0.86      2934\n",
            "   macro avg       0.50      0.50      0.48      2934\n",
            "weighted avg       0.79      0.86      0.82      2934\n",
            "\n"
          ],
          "name": "stdout"
        }
      ]
    },
    {
      "cell_type": "code",
      "metadata": {
        "id": "0JU58U0TcvSU"
      },
      "source": [
        "from sklearn.metrics import roc_curve"
      ],
      "execution_count": null,
      "outputs": []
    },
    {
      "cell_type": "code",
      "metadata": {
        "id": "lzhPvIXJpr16"
      },
      "source": [
        "fpr1,tpr1,thresholds1=roc_curve(y_test,grid_pred)\r\n",
        "fpr2,tpr2,thresholds2=roc_curve(y_test,pred)"
      ],
      "execution_count": null,
      "outputs": []
    },
    {
      "cell_type": "code",
      "metadata": {
        "colab": {
          "base_uri": "https://localhost:8080/",
          "height": 295
        },
        "id": "f9tKTPECrHD7",
        "outputId": "59759ddb-ba3f-43db-9a2d-20d8e84b9d9d"
      },
      "source": [
        "import matplotlib.pyplot as plt\r\n",
        "\r\n",
        "plt.plot(fpr1,tpr1,color='orange',label='Optimized')\r\n",
        "plt.plot(fpr2,tpr2,color='blue')\r\n",
        "plt.xlabel('False Positive Rate')\r\n",
        "plt.ylabel('True Positive Rate')\r\n",
        "plt.title('ROC-AUC Curve')\r\n",
        "plt.show()\r\n",
        "#orange line is slightly better as because of hyper parameter optimization"
      ],
      "execution_count": null,
      "outputs": [
        {
          "output_type": "display_data",
          "data": {
            "image/png": "[encoded data removed]",
            "text/plain": [
              "<Figure size 432x288 with 1 Axes>"
            ]
          },
          "metadata": {
            "tags": [],
            "needs_background": "light"
          }
        }
      ]
    },
    {
      "cell_type": "markdown",
      "metadata": {
        "id": "45Njyj9Bz-wB"
      },
      "source": [
        "Saving the model"
      ]
    },
    {
      "cell_type": "code",
      "metadata": {
        "id": "qYr6EXgRz_uQ"
      },
      "source": [
        "import pickle"
      ],
      "execution_count": null,
      "outputs": []
    },
    {
      "cell_type": "code",
      "metadata": {
        "id": "8zGZ4EsL0DWx"
      },
      "source": [
        "with open('fake_news_predictor.pkl','wb') as fl:\r\n",
        "    pickle.dump(grid_ob,fl)"
      ],
      "execution_count": null,
      "outputs": []
    },
    {
      "cell_type": "code",
      "metadata": {
        "id": "Ezp6VebO0JAk"
      },
      "source": [
        "with open('fake_news_predictor.pkl','rb') as model:\r\n",
        "  forest = pickle.load(model)"
      ],
      "execution_count": null,
      "outputs": []
    },
    {
      "cell_type": "code",
      "metadata": {
        "id": "RmVy0lpF0q_E"
      },
      "source": [
        "y_prediction = forest.predict(Embed_X_test)"
      ],
      "execution_count": null,
      "outputs": []
    },
    {
      "cell_type": "code",
      "metadata": {
        "colab": {
          "base_uri": "https://localhost:8080/"
        },
        "id": "q4-PdJ8w0raG",
        "outputId": "88223be0-16e5-4cc1-d8ba-9937d1c40ffb"
      },
      "source": [
        "accuracy_score(y_test,y_prediction)"
      ],
      "execution_count": null,
      "outputs": [
        {
          "output_type": "execute_result",
          "data": {
            "text/plain": [
              "0.8633265167007498"
            ]
          },
          "metadata": {
            "tags": []
          },
          "execution_count": 144
        }
      ]
    },
    {
      "cell_type": "code",
      "metadata": {
        "id": "jj5_VmOk07ns"
      },
      "source": [
        "with open('tfidf1.pkl','wb') as tf1:\r\n",
        "    pickle.dump(tf_transformer,tf1)"
      ],
      "execution_count": null,
      "outputs": []
    }
  ]
}